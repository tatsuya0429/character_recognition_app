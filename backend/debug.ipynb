{
 "metadata": {
  "language_info": {
   "codemirror_mode": {
    "name": "ipython",
    "version": 3
   },
   "file_extension": ".py",
   "mimetype": "text/x-python",
   "name": "python",
   "nbconvert_exporter": "python",
   "pygments_lexer": "ipython3",
   "version": 3
  },
  "orig_nbformat": 2,
  "kernelspec": {
   "name": "python_defaultSpec_1595592317325",
   "display_name": "Python 3.8.2 64-bit ('3.8.2': pyenv)"
  }
 },
 "nbformat": 4,
 "nbformat_minor": 2,
 "cells": [
  {
   "cell_type": "code",
   "execution_count": 3,
   "metadata": {
    "tags": []
   },
   "outputs": [
    {
     "output_type": "stream",
     "name": "stdout",
     "text": "[[255 255 255 255 255 255 255 255]\n [255 255 255 255 255 255 255 255]\n [255 255 255 255   0   0 255 255]\n [255 255   0 255 255   0 255 255]\n [255 255   0 255 255   0 255 255]\n [255 255   0 255 255   0 255 255]\n [255 255 255   0 188   0 255 255]\n [255 255 255 255 255 255 255 255]]\n"
    }
   ],
   "source": [
    "import cv2\n",
    "from glob import glob\n",
    "import os\n",
    "\n",
    "os.path.exists('/mnt/c/Users/ishim/Downloads/stage1595589841580.jpg')\n",
    "img = cv2.imread('/mnt/c/Users/ishim/Downloads/stage1595589841580.jpg')\n",
    "img = cv2.cvtColor(img, cv2.COLOR_BGR2GRAY)\n",
    "img = cv2.resize(img, (8,8))\n",
    "print(img)\n"
   ]
  },
  {
   "cell_type": "code",
   "execution_count": null,
   "metadata": {},
   "outputs": [],
   "source": []
  }
 ]
}